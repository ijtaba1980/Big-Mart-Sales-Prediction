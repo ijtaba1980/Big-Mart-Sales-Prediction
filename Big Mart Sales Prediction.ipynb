{
 "cells": [
  {
   "cell_type": "markdown",
   "id": "b678ef68",
   "metadata": {},
   "source": [
    "### Sales Prediction for Big Mart Outlets\n",
    "The data scientists at BigMart have collected 2013 sales data for 1559 products across 10 stores in different cities. Also, certain attributes of each product and store have been defined. The aim is to build a predictive model and predict the sales of each product at a particular outlet.\n",
    "\n",
    "Using this model, BigMart will try to understand the properties of products and outlets which play a key role in increasing sales."
   ]
  },
  {
   "cell_type": "markdown",
   "id": "36ffbdfe",
   "metadata": {},
   "source": [
    "##### First import basica packgages like Pnadas and Numpy"
   ]
  },
  {
   "cell_type": "code",
   "execution_count": 79,
   "id": "6ce55e75",
   "metadata": {},
   "outputs": [],
   "source": [
    "import pandas as pd\n",
    "import numpy as np"
   ]
  },
  {
   "cell_type": "markdown",
   "id": "a8d5e5d2",
   "metadata": {},
   "source": [
    "Import the data which is already separated as training and test dataset"
   ]
  },
  {
   "cell_type": "code",
   "execution_count": 80,
   "id": "5d39c511",
   "metadata": {},
   "outputs": [],
   "source": [
    "pd_train=pd.read_csv('E:\\\\Dataset\\\\Big Mar Sales Prediction\\\\train.csv')\n",
    "pd_test=pd.read_csv('E:\\\\Dataset\\\\Big Mar Sales Prediction\\\\test.csv')"
   ]
  },
  {
   "cell_type": "markdown",
   "id": "a8b99894",
   "metadata": {},
   "source": [
    "Now check column properties for diffirent columns"
   ]
  },
  {
   "cell_type": "code",
   "execution_count": 81,
   "id": "260fd69b",
   "metadata": {},
   "outputs": [
    {
     "name": "stdout",
     "output_type": "stream",
     "text": [
      "<class 'pandas.core.frame.DataFrame'>\n",
      "RangeIndex: 8523 entries, 0 to 8522\n",
      "Data columns (total 12 columns):\n",
      " #   Column                     Non-Null Count  Dtype  \n",
      "---  ------                     --------------  -----  \n",
      " 0   Item_Identifier            8523 non-null   object \n",
      " 1   Item_Weight                7060 non-null   float64\n",
      " 2   Item_Fat_Content           8523 non-null   object \n",
      " 3   Item_Visibility            8523 non-null   float64\n",
      " 4   Item_Type                  8523 non-null   object \n",
      " 5   Item_MRP                   8523 non-null   float64\n",
      " 6   Outlet_Identifier          8523 non-null   object \n",
      " 7   Outlet_Establishment_Year  8523 non-null   int64  \n",
      " 8   Outlet_Size                6113 non-null   object \n",
      " 9   Outlet_Location_Type       8523 non-null   object \n",
      " 10  Outlet_Type                8523 non-null   object \n",
      " 11  Item_Outlet_Sales          8523 non-null   float64\n",
      "dtypes: float64(4), int64(1), object(7)\n",
      "memory usage: 799.2+ KB\n",
      "<class 'pandas.core.frame.DataFrame'>\n",
      "RangeIndex: 5681 entries, 0 to 5680\n",
      "Data columns (total 11 columns):\n",
      " #   Column                     Non-Null Count  Dtype  \n",
      "---  ------                     --------------  -----  \n",
      " 0   Item_Identifier            5681 non-null   object \n",
      " 1   Item_Weight                4705 non-null   float64\n",
      " 2   Item_Fat_Content           5681 non-null   object \n",
      " 3   Item_Visibility            5681 non-null   float64\n",
      " 4   Item_Type                  5681 non-null   object \n",
      " 5   Item_MRP                   5681 non-null   float64\n",
      " 6   Outlet_Identifier          5681 non-null   object \n",
      " 7   Outlet_Establishment_Year  5681 non-null   int64  \n",
      " 8   Outlet_Size                4075 non-null   object \n",
      " 9   Outlet_Location_Type       5681 non-null   object \n",
      " 10  Outlet_Type                5681 non-null   object \n",
      "dtypes: float64(3), int64(1), object(7)\n",
      "memory usage: 488.3+ KB\n"
     ]
    },
    {
     "data": {
      "text/plain": [
       "(None, None)"
      ]
     },
     "execution_count": 81,
     "metadata": {},
     "output_type": "execute_result"
    }
   ],
   "source": [
    "pd_train.info(),pd_test.info()"
   ]
  },
  {
   "cell_type": "markdown",
   "id": "6ce9c3d7",
   "metadata": {},
   "source": [
    "Check count of NULL values by columns"
   ]
  },
  {
   "cell_type": "code",
   "execution_count": 82,
   "id": "08cea840",
   "metadata": {},
   "outputs": [
    {
     "data": {
      "text/plain": [
       "(Item_Identifier                 0\n",
       " Item_Weight                  1463\n",
       " Item_Fat_Content                0\n",
       " Item_Visibility                 0\n",
       " Item_Type                       0\n",
       " Item_MRP                        0\n",
       " Outlet_Identifier               0\n",
       " Outlet_Establishment_Year       0\n",
       " Outlet_Size                  2410\n",
       " Outlet_Location_Type            0\n",
       " Outlet_Type                     0\n",
       " Item_Outlet_Sales               0\n",
       " dtype: int64,\n",
       " Item_Identifier                 0\n",
       " Item_Weight                   976\n",
       " Item_Fat_Content                0\n",
       " Item_Visibility                 0\n",
       " Item_Type                       0\n",
       " Item_MRP                        0\n",
       " Outlet_Identifier               0\n",
       " Outlet_Establishment_Year       0\n",
       " Outlet_Size                  1606\n",
       " Outlet_Location_Type            0\n",
       " Outlet_Type                     0\n",
       " dtype: int64)"
      ]
     },
     "execution_count": 82,
     "metadata": {},
     "output_type": "execute_result"
    }
   ],
   "source": [
    "pd_train.isnull().sum(),pd_test.isnull().sum()"
   ]
  },
  {
   "cell_type": "markdown",
   "id": "a8f90628",
   "metadata": {},
   "source": [
    "Adding dummy columns before merging bot data and also adding additional column in test data to make equal columns in both tables."
   ]
  },
  {
   "cell_type": "code",
   "execution_count": 83,
   "id": "49820d4c",
   "metadata": {},
   "outputs": [],
   "source": [
    "pd_train['type']='train'\n",
    "pd_test['type']='test'\n",
    "pd_test['Item_Outlet_Sales']='na'"
   ]
  },
  {
   "cell_type": "markdown",
   "id": "de6544b8",
   "metadata": {},
   "source": [
    "Merging both tables vertically so that we can treat null values or any impunity"
   ]
  },
  {
   "cell_type": "code",
   "execution_count": 84,
   "id": "91a19a65",
   "metadata": {},
   "outputs": [],
   "source": [
    "pd_all=pd.concat([pd_train,pd_test],axis=0)"
   ]
  },
  {
   "cell_type": "markdown",
   "id": "d2699537",
   "metadata": {},
   "source": [
    " Replacing NULL values by MEAN or MEDIAN basis the data category of column "
   ]
  },
  {
   "cell_type": "code",
   "execution_count": 87,
   "id": "31bf7395",
   "metadata": {},
   "outputs": [],
   "source": [
    "pd_all['Outlet_Size'].fillna(pd_all['Outlet_Size'].mode()[0],inplace=True)\n",
    "pd_all['Item_Weight'].fillna(pd_all['Item_Weight'].mean(),inplace=True)"
   ]
  },
  {
   "cell_type": "markdown",
   "id": "0b9887ad",
   "metadata": {},
   "source": [
    "Replacing categorical values in each columns by numbers(we are taking 0 onwards number sequentially)"
   ]
  },
  {
   "cell_type": "code",
   "execution_count": 89,
   "id": "14399f92",
   "metadata": {},
   "outputs": [],
   "source": [
    "pd_all['Item_Fat_Content']=pd_all['Item_Fat_Content'].map({'Low Fat':0,'Regular':1,'LF':0,'reg':1,'low fat':0})\n",
    "pd_all['Item_Type']=pd_all['Item_Type'].map({'Seafood':15,'Breakfast':14,'Starchy Foods':13,'Others':12,'Hard Drinks':11,'Breads':10,'Soft Drinks':9,'Meat':8,'Health and Hygiene':7,'Canned':6,'Baking Goods':5,'Dairy':4,'Frozen Foods':3,'Household':2,'Snack Foods':1,'Fruits and Vegetables':0})\n",
    "\n",
    "pd_all['Outlet_Location_Type']=pd_all['Outlet_Location_Type'].map({'Tier 1':0,'Tier 2':1,'Tier 3':2})\n",
    "pd_all['Outlet_Establishment_Year']=pd_all['Outlet_Establishment_Year'].map({'1998':8,'2007':7,'2009':6,'2002':5,'2004':4,'1997':3,'1999':2,'1987':1,'1985':0})\n"
   ]
  },
  {
   "cell_type": "code",
   "execution_count": 90,
   "id": "dc451e34",
   "metadata": {},
   "outputs": [],
   "source": [
    "pd_all['Outlet_Size']=pd_all['Outlet_Size'].map({'Medium':0,'Small':1,'High':2})"
   ]
  },
  {
   "cell_type": "code",
   "execution_count": 91,
   "id": "c9f2f5be",
   "metadata": {},
   "outputs": [],
   "source": [
    "pd_all['Outlet_Type']=pd_all['Outlet_Type'].map({'Supermarket Type1':0,'Grocery Store':1,'Supermarket Type3':2,'Supermarket Type2':3})"
   ]
  },
  {
   "cell_type": "markdown",
   "id": "be8210d7",
   "metadata": {},
   "source": [
    "Changing columns values in the same scale using MAX MIN"
   ]
  },
  {
   "cell_type": "code",
   "execution_count": 92,
   "id": "0938c120",
   "metadata": {},
   "outputs": [],
   "source": [
    "for i in pd_all.iloc[:,[1,2,3,4,5,7,9,10]]:\n",
    "    pd_all[i]=(pd_all[i]-pd_all[i].min())/(pd_all[i].max()-pd_all[i].min())"
   ]
  },
  {
   "cell_type": "markdown",
   "id": "b0192d8f",
   "metadata": {},
   "source": [
    "DELETE the irrelevent columns"
   ]
  },
  {
   "cell_type": "code",
   "execution_count": 93,
   "id": "d7a93e9b",
   "metadata": {},
   "outputs": [],
   "source": [
    "del pd_all['Outlet_Establishment_Year']"
   ]
  },
  {
   "cell_type": "code",
   "execution_count": null,
   "id": "176150ad",
   "metadata": {},
   "outputs": [],
   "source": [
    "Seperate both the dataset"
   ]
  },
  {
   "cell_type": "code",
   "execution_count": 94,
   "id": "1af87a2b",
   "metadata": {},
   "outputs": [],
   "source": [
    "sd_train=pd_all[pd_all['type']=='train']"
   ]
  },
  {
   "cell_type": "code",
   "execution_count": 95,
   "id": "a5da9b3e",
   "metadata": {},
   "outputs": [],
   "source": [
    "sd_test=pd_all[pd_all['type']=='test']"
   ]
  },
  {
   "cell_type": "markdown",
   "id": "408f3728",
   "metadata": {},
   "source": [
    "Delete the irrilivent columns that would not be required in modeling"
   ]
  },
  {
   "cell_type": "code",
   "execution_count": null,
   "id": "de58fad4",
   "metadata": {},
   "outputs": [],
   "source": [
    "sd_train.drop(['Item_Identifier','Outlet_Identifier','type'],axis=1,inplace=True)"
   ]
  },
  {
   "cell_type": "code",
   "execution_count": 98,
   "id": "f5995136",
   "metadata": {},
   "outputs": [
    {
     "name": "stderr",
     "output_type": "stream",
     "text": [
      "C:\\Users\\Cyntexia\\AppData\\Local\\Temp\\ipykernel_2640\\3753187809.py:1: SettingWithCopyWarning: \n",
      "A value is trying to be set on a copy of a slice from a DataFrame\n",
      "\n",
      "See the caveats in the documentation: https://pandas.pydata.org/pandas-docs/stable/user_guide/indexing.html#returning-a-view-versus-a-copy\n",
      "  sd_test.drop(['Item_Outlet_Sales','type','Item_Identifier','Outlet_Identifier'],axis=1,inplace=True)\n"
     ]
    }
   ],
   "source": [
    "sd_test.drop(['Item_Outlet_Sales','type','Item_Identifier','Outlet_Identifier'],axis=1,inplace=True)"
   ]
  },
  {
   "cell_type": "markdown",
   "id": "bc62070d",
   "metadata": {},
   "source": [
    "### Regression \n",
    "Importing different packages that will be used for different function"
   ]
  },
  {
   "cell_type": "code",
   "execution_count": 100,
   "id": "3f243cc1",
   "metadata": {},
   "outputs": [],
   "source": [
    "from sklearn.model_selection import train_test_split\n",
    "sd_train1,sd_train2=train_test_split(sd_train,test_size=0.2,random_state=2)\n",
    "from sklearn.linear_model import LinearRegression\n",
    "from sklearn.metrics import mean_absolute_error                           \n",
    "from sklearn.linear_model import LinearRegression"
   ]
  },
  {
   "cell_type": "markdown",
   "id": "02eace7b",
   "metadata": {},
   "source": [
    "Now when we split the data in train & split, we will create two datasets(predictor and variables) from the same train data."
   ]
  },
  {
   "cell_type": "code",
   "execution_count": 101,
   "id": "512aeffd",
   "metadata": {},
   "outputs": [],
   "source": [
    "sd_train11=sd_train1.drop('Item_Outlet_Sales',axis=1)\n",
    "sd_train12=sd_train1['Item_Outlet_Sales']"
   ]
  },
  {
   "cell_type": "markdown",
   "id": "05773e1d",
   "metadata": {},
   "source": [
    "Now we will fit equation and will use the training dataset that we separated earlier."
   ]
  },
  {
   "cell_type": "code",
   "execution_count": 102,
   "id": "87c41dbf",
   "metadata": {},
   "outputs": [
    {
     "data": {
      "text/plain": [
       "LinearRegression()"
      ]
     },
     "execution_count": 102,
     "metadata": {},
     "output_type": "execute_result"
    }
   ],
   "source": [
    "lm=LinearRegression()\n",
    "lm.fit(sd_train11,sd_train12)"
   ]
  },
  {
   "cell_type": "markdown",
   "id": "02b3b403",
   "metadata": {},
   "source": [
    "Now predict the value for test dataset which we split earlier(20%)"
   ]
  },
  {
   "cell_type": "code",
   "execution_count": 106,
   "id": "a6db6a44",
   "metadata": {},
   "outputs": [],
   "source": [
    "predict=lm.predict(sd_train2.drop('Item_Outlet_Sales',axis=1))"
   ]
  },
  {
   "cell_type": "markdown",
   "id": "6522a161",
   "metadata": {},
   "source": [
    "Check the Error of predicted value against ther actual values."
   ]
  },
  {
   "cell_type": "code",
   "execution_count": 107,
   "id": "da04346d",
   "metadata": {},
   "outputs": [
    {
     "data": {
      "text/plain": [
       "1069.7329678766089"
      ]
     },
     "execution_count": 107,
     "metadata": {},
     "output_type": "execute_result"
    }
   ],
   "source": [
    "mean_absolute_error(sd_train2['Item_Outlet_Sales'],predict)"
   ]
  },
  {
   "cell_type": "markdown",
   "id": "fc96405f",
   "metadata": {},
   "source": [
    "Now you predict the values for the actual data given to use."
   ]
  },
  {
   "cell_type": "code",
   "execution_count": 83,
   "id": "37dc8714",
   "metadata": {},
   "outputs": [],
   "source": [
    "pred=lm.predict(sd_test)"
   ]
  },
  {
   "cell_type": "code",
   "execution_count": 84,
   "id": "4e948954",
   "metadata": {},
   "outputs": [],
   "source": [
    "pd.DataFrame(pred).to_csv(\"sd_test.csv\",index=False)"
   ]
  },
  {
   "cell_type": "markdown",
   "id": "168ce5b6",
   "metadata": {},
   "source": [
    "#### Ridge Regresson\n",
    "Import Ridge,Lassor and GridSearch for further optimization of model"
   ]
  },
  {
   "cell_type": "code",
   "execution_count": 108,
   "id": "faea3e6a",
   "metadata": {},
   "outputs": [],
   "source": [
    "from sklearn.linear_model import Ridge,Lasso\n",
    "from sklearn.model_selection import GridSearchCV"
   ]
  },
  {
   "cell_type": "code",
   "execution_count": null,
   "id": "2488cc64",
   "metadata": {},
   "outputs": [],
   "source": [
    "Defining the lambdas, starting from 0.001 to 100 and total 1000 lambdas"
   ]
  },
  {
   "cell_type": "code",
   "execution_count": 109,
   "id": "8d88db4f",
   "metadata": {},
   "outputs": [],
   "source": [
    "lambdas=np.linspace(.001,100,1000)"
   ]
  },
  {
   "cell_type": "code",
   "execution_count": 110,
   "id": "aab05068",
   "metadata": {},
   "outputs": [
    {
     "data": {
      "text/plain": [
       "array([1.00000000e-03, 1.01099099e-01, 2.01198198e-01, 3.01297297e-01,\n",
       "       4.01396396e-01, 5.01495495e-01, 6.01594595e-01, 7.01693694e-01,\n",
       "       8.01792793e-01, 9.01891892e-01, 1.00199099e+00, 1.10209009e+00,\n",
       "       1.20218919e+00, 1.30228829e+00, 1.40238739e+00, 1.50248649e+00,\n",
       "       1.60258559e+00, 1.70268468e+00, 1.80278378e+00, 1.90288288e+00,\n",
       "       2.00298198e+00, 2.10308108e+00, 2.20318018e+00, 2.30327928e+00,\n",
       "       2.40337838e+00, 2.50347748e+00, 2.60357658e+00, 2.70367568e+00,\n",
       "       2.80377477e+00, 2.90387387e+00, 3.00397297e+00, 3.10407207e+00,\n",
       "       3.20417117e+00, 3.30427027e+00, 3.40436937e+00, 3.50446847e+00,\n",
       "       3.60456757e+00, 3.70466667e+00, 3.80476577e+00, 3.90486486e+00,\n",
       "       4.00496396e+00, 4.10506306e+00, 4.20516216e+00, 4.30526126e+00,\n",
       "       4.40536036e+00, 4.50545946e+00, 4.60555856e+00, 4.70565766e+00,\n",
       "       4.80575676e+00, 4.90585586e+00, 5.00595495e+00, 5.10605405e+00,\n",
       "       5.20615315e+00, 5.30625225e+00, 5.40635135e+00, 5.50645045e+00,\n",
       "       5.60654955e+00, 5.70664865e+00, 5.80674775e+00, 5.90684685e+00,\n",
       "       6.00694595e+00, 6.10704505e+00, 6.20714414e+00, 6.30724324e+00,\n",
       "       6.40734234e+00, 6.50744144e+00, 6.60754054e+00, 6.70763964e+00,\n",
       "       6.80773874e+00, 6.90783784e+00, 7.00793694e+00, 7.10803604e+00,\n",
       "       7.20813514e+00, 7.30823423e+00, 7.40833333e+00, 7.50843243e+00,\n",
       "       7.60853153e+00, 7.70863063e+00, 7.80872973e+00, 7.90882883e+00,\n",
       "       8.00892793e+00, 8.10902703e+00, 8.20912613e+00, 8.30922523e+00,\n",
       "       8.40932432e+00, 8.50942342e+00, 8.60952252e+00, 8.70962162e+00,\n",
       "       8.80972072e+00, 8.90981982e+00, 9.00991892e+00, 9.11001802e+00,\n",
       "       9.21011712e+00, 9.31021622e+00, 9.41031532e+00, 9.51041441e+00,\n",
       "       9.61051351e+00, 9.71061261e+00, 9.81071171e+00, 9.91081081e+00,\n",
       "       1.00109099e+01, 1.01110090e+01, 1.02111081e+01, 1.03112072e+01,\n",
       "       1.04113063e+01, 1.05114054e+01, 1.06115045e+01, 1.07116036e+01,\n",
       "       1.08117027e+01, 1.09118018e+01, 1.10119009e+01, 1.11120000e+01,\n",
       "       1.12120991e+01, 1.13121982e+01, 1.14122973e+01, 1.15123964e+01,\n",
       "       1.16124955e+01, 1.17125946e+01, 1.18126937e+01, 1.19127928e+01,\n",
       "       1.20128919e+01, 1.21129910e+01, 1.22130901e+01, 1.23131892e+01,\n",
       "       1.24132883e+01, 1.25133874e+01, 1.26134865e+01, 1.27135856e+01,\n",
       "       1.28136847e+01, 1.29137838e+01, 1.30138829e+01, 1.31139820e+01,\n",
       "       1.32140811e+01, 1.33141802e+01, 1.34142793e+01, 1.35143784e+01,\n",
       "       1.36144775e+01, 1.37145766e+01, 1.38146757e+01, 1.39147748e+01,\n",
       "       1.40148739e+01, 1.41149730e+01, 1.42150721e+01, 1.43151712e+01,\n",
       "       1.44152703e+01, 1.45153694e+01, 1.46154685e+01, 1.47155676e+01,\n",
       "       1.48156667e+01, 1.49157658e+01, 1.50158649e+01, 1.51159640e+01,\n",
       "       1.52160631e+01, 1.53161622e+01, 1.54162613e+01, 1.55163604e+01,\n",
       "       1.56164595e+01, 1.57165586e+01, 1.58166577e+01, 1.59167568e+01,\n",
       "       1.60168559e+01, 1.61169550e+01, 1.62170541e+01, 1.63171532e+01,\n",
       "       1.64172523e+01, 1.65173514e+01, 1.66174505e+01, 1.67175495e+01,\n",
       "       1.68176486e+01, 1.69177477e+01, 1.70178468e+01, 1.71179459e+01,\n",
       "       1.72180450e+01, 1.73181441e+01, 1.74182432e+01, 1.75183423e+01,\n",
       "       1.76184414e+01, 1.77185405e+01, 1.78186396e+01, 1.79187387e+01,\n",
       "       1.80188378e+01, 1.81189369e+01, 1.82190360e+01, 1.83191351e+01,\n",
       "       1.84192342e+01, 1.85193333e+01, 1.86194324e+01, 1.87195315e+01,\n",
       "       1.88196306e+01, 1.89197297e+01, 1.90198288e+01, 1.91199279e+01,\n",
       "       1.92200270e+01, 1.93201261e+01, 1.94202252e+01, 1.95203243e+01,\n",
       "       1.96204234e+01, 1.97205225e+01, 1.98206216e+01, 1.99207207e+01,\n",
       "       2.00208198e+01, 2.01209189e+01, 2.02210180e+01, 2.03211171e+01,\n",
       "       2.04212162e+01, 2.05213153e+01, 2.06214144e+01, 2.07215135e+01,\n",
       "       2.08216126e+01, 2.09217117e+01, 2.10218108e+01, 2.11219099e+01,\n",
       "       2.12220090e+01, 2.13221081e+01, 2.14222072e+01, 2.15223063e+01,\n",
       "       2.16224054e+01, 2.17225045e+01, 2.18226036e+01, 2.19227027e+01,\n",
       "       2.20228018e+01, 2.21229009e+01, 2.22230000e+01, 2.23230991e+01,\n",
       "       2.24231982e+01, 2.25232973e+01, 2.26233964e+01, 2.27234955e+01,\n",
       "       2.28235946e+01, 2.29236937e+01, 2.30237928e+01, 2.31238919e+01,\n",
       "       2.32239910e+01, 2.33240901e+01, 2.34241892e+01, 2.35242883e+01,\n",
       "       2.36243874e+01, 2.37244865e+01, 2.38245856e+01, 2.39246847e+01,\n",
       "       2.40247838e+01, 2.41248829e+01, 2.42249820e+01, 2.43250811e+01,\n",
       "       2.44251802e+01, 2.45252793e+01, 2.46253784e+01, 2.47254775e+01,\n",
       "       2.48255766e+01, 2.49256757e+01, 2.50257748e+01, 2.51258739e+01,\n",
       "       2.52259730e+01, 2.53260721e+01, 2.54261712e+01, 2.55262703e+01,\n",
       "       2.56263694e+01, 2.57264685e+01, 2.58265676e+01, 2.59266667e+01,\n",
       "       2.60267658e+01, 2.61268649e+01, 2.62269640e+01, 2.63270631e+01,\n",
       "       2.64271622e+01, 2.65272613e+01, 2.66273604e+01, 2.67274595e+01,\n",
       "       2.68275586e+01, 2.69276577e+01, 2.70277568e+01, 2.71278559e+01,\n",
       "       2.72279550e+01, 2.73280541e+01, 2.74281532e+01, 2.75282523e+01,\n",
       "       2.76283514e+01, 2.77284505e+01, 2.78285495e+01, 2.79286486e+01,\n",
       "       2.80287477e+01, 2.81288468e+01, 2.82289459e+01, 2.83290450e+01,\n",
       "       2.84291441e+01, 2.85292432e+01, 2.86293423e+01, 2.87294414e+01,\n",
       "       2.88295405e+01, 2.89296396e+01, 2.90297387e+01, 2.91298378e+01,\n",
       "       2.92299369e+01, 2.93300360e+01, 2.94301351e+01, 2.95302342e+01,\n",
       "       2.96303333e+01, 2.97304324e+01, 2.98305315e+01, 2.99306306e+01,\n",
       "       3.00307297e+01, 3.01308288e+01, 3.02309279e+01, 3.03310270e+01,\n",
       "       3.04311261e+01, 3.05312252e+01, 3.06313243e+01, 3.07314234e+01,\n",
       "       3.08315225e+01, 3.09316216e+01, 3.10317207e+01, 3.11318198e+01,\n",
       "       3.12319189e+01, 3.13320180e+01, 3.14321171e+01, 3.15322162e+01,\n",
       "       3.16323153e+01, 3.17324144e+01, 3.18325135e+01, 3.19326126e+01,\n",
       "       3.20327117e+01, 3.21328108e+01, 3.22329099e+01, 3.23330090e+01,\n",
       "       3.24331081e+01, 3.25332072e+01, 3.26333063e+01, 3.27334054e+01,\n",
       "       3.28335045e+01, 3.29336036e+01, 3.30337027e+01, 3.31338018e+01,\n",
       "       3.32339009e+01, 3.33340000e+01, 3.34340991e+01, 3.35341982e+01,\n",
       "       3.36342973e+01, 3.37343964e+01, 3.38344955e+01, 3.39345946e+01,\n",
       "       3.40346937e+01, 3.41347928e+01, 3.42348919e+01, 3.43349910e+01,\n",
       "       3.44350901e+01, 3.45351892e+01, 3.46352883e+01, 3.47353874e+01,\n",
       "       3.48354865e+01, 3.49355856e+01, 3.50356847e+01, 3.51357838e+01,\n",
       "       3.52358829e+01, 3.53359820e+01, 3.54360811e+01, 3.55361802e+01,\n",
       "       3.56362793e+01, 3.57363784e+01, 3.58364775e+01, 3.59365766e+01,\n",
       "       3.60366757e+01, 3.61367748e+01, 3.62368739e+01, 3.63369730e+01,\n",
       "       3.64370721e+01, 3.65371712e+01, 3.66372703e+01, 3.67373694e+01,\n",
       "       3.68374685e+01, 3.69375676e+01, 3.70376667e+01, 3.71377658e+01,\n",
       "       3.72378649e+01, 3.73379640e+01, 3.74380631e+01, 3.75381622e+01,\n",
       "       3.76382613e+01, 3.77383604e+01, 3.78384595e+01, 3.79385586e+01,\n",
       "       3.80386577e+01, 3.81387568e+01, 3.82388559e+01, 3.83389550e+01,\n",
       "       3.84390541e+01, 3.85391532e+01, 3.86392523e+01, 3.87393514e+01,\n",
       "       3.88394505e+01, 3.89395495e+01, 3.90396486e+01, 3.91397477e+01,\n",
       "       3.92398468e+01, 3.93399459e+01, 3.94400450e+01, 3.95401441e+01,\n",
       "       3.96402432e+01, 3.97403423e+01, 3.98404414e+01, 3.99405405e+01,\n",
       "       4.00406396e+01, 4.01407387e+01, 4.02408378e+01, 4.03409369e+01,\n",
       "       4.04410360e+01, 4.05411351e+01, 4.06412342e+01, 4.07413333e+01,\n",
       "       4.08414324e+01, 4.09415315e+01, 4.10416306e+01, 4.11417297e+01,\n",
       "       4.12418288e+01, 4.13419279e+01, 4.14420270e+01, 4.15421261e+01,\n",
       "       4.16422252e+01, 4.17423243e+01, 4.18424234e+01, 4.19425225e+01,\n",
       "       4.20426216e+01, 4.21427207e+01, 4.22428198e+01, 4.23429189e+01,\n",
       "       4.24430180e+01, 4.25431171e+01, 4.26432162e+01, 4.27433153e+01,\n",
       "       4.28434144e+01, 4.29435135e+01, 4.30436126e+01, 4.31437117e+01,\n",
       "       4.32438108e+01, 4.33439099e+01, 4.34440090e+01, 4.35441081e+01,\n",
       "       4.36442072e+01, 4.37443063e+01, 4.38444054e+01, 4.39445045e+01,\n",
       "       4.40446036e+01, 4.41447027e+01, 4.42448018e+01, 4.43449009e+01,\n",
       "       4.44450000e+01, 4.45450991e+01, 4.46451982e+01, 4.47452973e+01,\n",
       "       4.48453964e+01, 4.49454955e+01, 4.50455946e+01, 4.51456937e+01,\n",
       "       4.52457928e+01, 4.53458919e+01, 4.54459910e+01, 4.55460901e+01,\n",
       "       4.56461892e+01, 4.57462883e+01, 4.58463874e+01, 4.59464865e+01,\n",
       "       4.60465856e+01, 4.61466847e+01, 4.62467838e+01, 4.63468829e+01,\n",
       "       4.64469820e+01, 4.65470811e+01, 4.66471802e+01, 4.67472793e+01,\n",
       "       4.68473784e+01, 4.69474775e+01, 4.70475766e+01, 4.71476757e+01,\n",
       "       4.72477748e+01, 4.73478739e+01, 4.74479730e+01, 4.75480721e+01,\n",
       "       4.76481712e+01, 4.77482703e+01, 4.78483694e+01, 4.79484685e+01,\n",
       "       4.80485676e+01, 4.81486667e+01, 4.82487658e+01, 4.83488649e+01,\n",
       "       4.84489640e+01, 4.85490631e+01, 4.86491622e+01, 4.87492613e+01,\n",
       "       4.88493604e+01, 4.89494595e+01, 4.90495586e+01, 4.91496577e+01,\n",
       "       4.92497568e+01, 4.93498559e+01, 4.94499550e+01, 4.95500541e+01,\n",
       "       4.96501532e+01, 4.97502523e+01, 4.98503514e+01, 4.99504505e+01,\n",
       "       5.00505495e+01, 5.01506486e+01, 5.02507477e+01, 5.03508468e+01,\n",
       "       5.04509459e+01, 5.05510450e+01, 5.06511441e+01, 5.07512432e+01,\n",
       "       5.08513423e+01, 5.09514414e+01, 5.10515405e+01, 5.11516396e+01,\n",
       "       5.12517387e+01, 5.13518378e+01, 5.14519369e+01, 5.15520360e+01,\n",
       "       5.16521351e+01, 5.17522342e+01, 5.18523333e+01, 5.19524324e+01,\n",
       "       5.20525315e+01, 5.21526306e+01, 5.22527297e+01, 5.23528288e+01,\n",
       "       5.24529279e+01, 5.25530270e+01, 5.26531261e+01, 5.27532252e+01,\n",
       "       5.28533243e+01, 5.29534234e+01, 5.30535225e+01, 5.31536216e+01,\n",
       "       5.32537207e+01, 5.33538198e+01, 5.34539189e+01, 5.35540180e+01,\n",
       "       5.36541171e+01, 5.37542162e+01, 5.38543153e+01, 5.39544144e+01,\n",
       "       5.40545135e+01, 5.41546126e+01, 5.42547117e+01, 5.43548108e+01,\n",
       "       5.44549099e+01, 5.45550090e+01, 5.46551081e+01, 5.47552072e+01,\n",
       "       5.48553063e+01, 5.49554054e+01, 5.50555045e+01, 5.51556036e+01,\n",
       "       5.52557027e+01, 5.53558018e+01, 5.54559009e+01, 5.55560000e+01,\n",
       "       5.56560991e+01, 5.57561982e+01, 5.58562973e+01, 5.59563964e+01,\n",
       "       5.60564955e+01, 5.61565946e+01, 5.62566937e+01, 5.63567928e+01,\n",
       "       5.64568919e+01, 5.65569910e+01, 5.66570901e+01, 5.67571892e+01,\n",
       "       5.68572883e+01, 5.69573874e+01, 5.70574865e+01, 5.71575856e+01,\n",
       "       5.72576847e+01, 5.73577838e+01, 5.74578829e+01, 5.75579820e+01,\n",
       "       5.76580811e+01, 5.77581802e+01, 5.78582793e+01, 5.79583784e+01,\n",
       "       5.80584775e+01, 5.81585766e+01, 5.82586757e+01, 5.83587748e+01,\n",
       "       5.84588739e+01, 5.85589730e+01, 5.86590721e+01, 5.87591712e+01,\n",
       "       5.88592703e+01, 5.89593694e+01, 5.90594685e+01, 5.91595676e+01,\n",
       "       5.92596667e+01, 5.93597658e+01, 5.94598649e+01, 5.95599640e+01,\n",
       "       5.96600631e+01, 5.97601622e+01, 5.98602613e+01, 5.99603604e+01,\n",
       "       6.00604595e+01, 6.01605586e+01, 6.02606577e+01, 6.03607568e+01,\n",
       "       6.04608559e+01, 6.05609550e+01, 6.06610541e+01, 6.07611532e+01,\n",
       "       6.08612523e+01, 6.09613514e+01, 6.10614505e+01, 6.11615495e+01,\n",
       "       6.12616486e+01, 6.13617477e+01, 6.14618468e+01, 6.15619459e+01,\n",
       "       6.16620450e+01, 6.17621441e+01, 6.18622432e+01, 6.19623423e+01,\n",
       "       6.20624414e+01, 6.21625405e+01, 6.22626396e+01, 6.23627387e+01,\n",
       "       6.24628378e+01, 6.25629369e+01, 6.26630360e+01, 6.27631351e+01,\n",
       "       6.28632342e+01, 6.29633333e+01, 6.30634324e+01, 6.31635315e+01,\n",
       "       6.32636306e+01, 6.33637297e+01, 6.34638288e+01, 6.35639279e+01,\n",
       "       6.36640270e+01, 6.37641261e+01, 6.38642252e+01, 6.39643243e+01,\n",
       "       6.40644234e+01, 6.41645225e+01, 6.42646216e+01, 6.43647207e+01,\n",
       "       6.44648198e+01, 6.45649189e+01, 6.46650180e+01, 6.47651171e+01,\n",
       "       6.48652162e+01, 6.49653153e+01, 6.50654144e+01, 6.51655135e+01,\n",
       "       6.52656126e+01, 6.53657117e+01, 6.54658108e+01, 6.55659099e+01,\n",
       "       6.56660090e+01, 6.57661081e+01, 6.58662072e+01, 6.59663063e+01,\n",
       "       6.60664054e+01, 6.61665045e+01, 6.62666036e+01, 6.63667027e+01,\n",
       "       6.64668018e+01, 6.65669009e+01, 6.66670000e+01, 6.67670991e+01,\n",
       "       6.68671982e+01, 6.69672973e+01, 6.70673964e+01, 6.71674955e+01,\n",
       "       6.72675946e+01, 6.73676937e+01, 6.74677928e+01, 6.75678919e+01,\n",
       "       6.76679910e+01, 6.77680901e+01, 6.78681892e+01, 6.79682883e+01,\n",
       "       6.80683874e+01, 6.81684865e+01, 6.82685856e+01, 6.83686847e+01,\n",
       "       6.84687838e+01, 6.85688829e+01, 6.86689820e+01, 6.87690811e+01,\n",
       "       6.88691802e+01, 6.89692793e+01, 6.90693784e+01, 6.91694775e+01,\n",
       "       6.92695766e+01, 6.93696757e+01, 6.94697748e+01, 6.95698739e+01,\n",
       "       6.96699730e+01, 6.97700721e+01, 6.98701712e+01, 6.99702703e+01,\n",
       "       7.00703694e+01, 7.01704685e+01, 7.02705676e+01, 7.03706667e+01,\n",
       "       7.04707658e+01, 7.05708649e+01, 7.06709640e+01, 7.07710631e+01,\n",
       "       7.08711622e+01, 7.09712613e+01, 7.10713604e+01, 7.11714595e+01,\n",
       "       7.12715586e+01, 7.13716577e+01, 7.14717568e+01, 7.15718559e+01,\n",
       "       7.16719550e+01, 7.17720541e+01, 7.18721532e+01, 7.19722523e+01,\n",
       "       7.20723514e+01, 7.21724505e+01, 7.22725495e+01, 7.23726486e+01,\n",
       "       7.24727477e+01, 7.25728468e+01, 7.26729459e+01, 7.27730450e+01,\n",
       "       7.28731441e+01, 7.29732432e+01, 7.30733423e+01, 7.31734414e+01,\n",
       "       7.32735405e+01, 7.33736396e+01, 7.34737387e+01, 7.35738378e+01,\n",
       "       7.36739369e+01, 7.37740360e+01, 7.38741351e+01, 7.39742342e+01,\n",
       "       7.40743333e+01, 7.41744324e+01, 7.42745315e+01, 7.43746306e+01,\n",
       "       7.44747297e+01, 7.45748288e+01, 7.46749279e+01, 7.47750270e+01,\n",
       "       7.48751261e+01, 7.49752252e+01, 7.50753243e+01, 7.51754234e+01,\n",
       "       7.52755225e+01, 7.53756216e+01, 7.54757207e+01, 7.55758198e+01,\n",
       "       7.56759189e+01, 7.57760180e+01, 7.58761171e+01, 7.59762162e+01,\n",
       "       7.60763153e+01, 7.61764144e+01, 7.62765135e+01, 7.63766126e+01,\n",
       "       7.64767117e+01, 7.65768108e+01, 7.66769099e+01, 7.67770090e+01,\n",
       "       7.68771081e+01, 7.69772072e+01, 7.70773063e+01, 7.71774054e+01,\n",
       "       7.72775045e+01, 7.73776036e+01, 7.74777027e+01, 7.75778018e+01,\n",
       "       7.76779009e+01, 7.77780000e+01, 7.78780991e+01, 7.79781982e+01,\n",
       "       7.80782973e+01, 7.81783964e+01, 7.82784955e+01, 7.83785946e+01,\n",
       "       7.84786937e+01, 7.85787928e+01, 7.86788919e+01, 7.87789910e+01,\n",
       "       7.88790901e+01, 7.89791892e+01, 7.90792883e+01, 7.91793874e+01,\n",
       "       7.92794865e+01, 7.93795856e+01, 7.94796847e+01, 7.95797838e+01,\n",
       "       7.96798829e+01, 7.97799820e+01, 7.98800811e+01, 7.99801802e+01,\n",
       "       8.00802793e+01, 8.01803784e+01, 8.02804775e+01, 8.03805766e+01,\n",
       "       8.04806757e+01, 8.05807748e+01, 8.06808739e+01, 8.07809730e+01,\n",
       "       8.08810721e+01, 8.09811712e+01, 8.10812703e+01, 8.11813694e+01,\n",
       "       8.12814685e+01, 8.13815676e+01, 8.14816667e+01, 8.15817658e+01,\n",
       "       8.16818649e+01, 8.17819640e+01, 8.18820631e+01, 8.19821622e+01,\n",
       "       8.20822613e+01, 8.21823604e+01, 8.22824595e+01, 8.23825586e+01,\n",
       "       8.24826577e+01, 8.25827568e+01, 8.26828559e+01, 8.27829550e+01,\n",
       "       8.28830541e+01, 8.29831532e+01, 8.30832523e+01, 8.31833514e+01,\n",
       "       8.32834505e+01, 8.33835495e+01, 8.34836486e+01, 8.35837477e+01,\n",
       "       8.36838468e+01, 8.37839459e+01, 8.38840450e+01, 8.39841441e+01,\n",
       "       8.40842432e+01, 8.41843423e+01, 8.42844414e+01, 8.43845405e+01,\n",
       "       8.44846396e+01, 8.45847387e+01, 8.46848378e+01, 8.47849369e+01,\n",
       "       8.48850360e+01, 8.49851351e+01, 8.50852342e+01, 8.51853333e+01,\n",
       "       8.52854324e+01, 8.53855315e+01, 8.54856306e+01, 8.55857297e+01,\n",
       "       8.56858288e+01, 8.57859279e+01, 8.58860270e+01, 8.59861261e+01,\n",
       "       8.60862252e+01, 8.61863243e+01, 8.62864234e+01, 8.63865225e+01,\n",
       "       8.64866216e+01, 8.65867207e+01, 8.66868198e+01, 8.67869189e+01,\n",
       "       8.68870180e+01, 8.69871171e+01, 8.70872162e+01, 8.71873153e+01,\n",
       "       8.72874144e+01, 8.73875135e+01, 8.74876126e+01, 8.75877117e+01,\n",
       "       8.76878108e+01, 8.77879099e+01, 8.78880090e+01, 8.79881081e+01,\n",
       "       8.80882072e+01, 8.81883063e+01, 8.82884054e+01, 8.83885045e+01,\n",
       "       8.84886036e+01, 8.85887027e+01, 8.86888018e+01, 8.87889009e+01,\n",
       "       8.88890000e+01, 8.89890991e+01, 8.90891982e+01, 8.91892973e+01,\n",
       "       8.92893964e+01, 8.93894955e+01, 8.94895946e+01, 8.95896937e+01,\n",
       "       8.96897928e+01, 8.97898919e+01, 8.98899910e+01, 8.99900901e+01,\n",
       "       9.00901892e+01, 9.01902883e+01, 9.02903874e+01, 9.03904865e+01,\n",
       "       9.04905856e+01, 9.05906847e+01, 9.06907838e+01, 9.07908829e+01,\n",
       "       9.08909820e+01, 9.09910811e+01, 9.10911802e+01, 9.11912793e+01,\n",
       "       9.12913784e+01, 9.13914775e+01, 9.14915766e+01, 9.15916757e+01,\n",
       "       9.16917748e+01, 9.17918739e+01, 9.18919730e+01, 9.19920721e+01,\n",
       "       9.20921712e+01, 9.21922703e+01, 9.22923694e+01, 9.23924685e+01,\n",
       "       9.24925676e+01, 9.25926667e+01, 9.26927658e+01, 9.27928649e+01,\n",
       "       9.28929640e+01, 9.29930631e+01, 9.30931622e+01, 9.31932613e+01,\n",
       "       9.32933604e+01, 9.33934595e+01, 9.34935586e+01, 9.35936577e+01,\n",
       "       9.36937568e+01, 9.37938559e+01, 9.38939550e+01, 9.39940541e+01,\n",
       "       9.40941532e+01, 9.41942523e+01, 9.42943514e+01, 9.43944505e+01,\n",
       "       9.44945495e+01, 9.45946486e+01, 9.46947477e+01, 9.47948468e+01,\n",
       "       9.48949459e+01, 9.49950450e+01, 9.50951441e+01, 9.51952432e+01,\n",
       "       9.52953423e+01, 9.53954414e+01, 9.54955405e+01, 9.55956396e+01,\n",
       "       9.56957387e+01, 9.57958378e+01, 9.58959369e+01, 9.59960360e+01,\n",
       "       9.60961351e+01, 9.61962342e+01, 9.62963333e+01, 9.63964324e+01,\n",
       "       9.64965315e+01, 9.65966306e+01, 9.66967297e+01, 9.67968288e+01,\n",
       "       9.68969279e+01, 9.69970270e+01, 9.70971261e+01, 9.71972252e+01,\n",
       "       9.72973243e+01, 9.73974234e+01, 9.74975225e+01, 9.75976216e+01,\n",
       "       9.76977207e+01, 9.77978198e+01, 9.78979189e+01, 9.79980180e+01,\n",
       "       9.80981171e+01, 9.81982162e+01, 9.82983153e+01, 9.83984144e+01,\n",
       "       9.84985135e+01, 9.85986126e+01, 9.86987117e+01, 9.87988108e+01,\n",
       "       9.88989099e+01, 9.89990090e+01, 9.90991081e+01, 9.91992072e+01,\n",
       "       9.92993063e+01, 9.93994054e+01, 9.94995045e+01, 9.95996036e+01,\n",
       "       9.96997027e+01, 9.97998018e+01, 9.98999009e+01, 1.00000000e+02])"
      ]
     },
     "execution_count": 110,
     "metadata": {},
     "output_type": "execute_result"
    }
   ],
   "source": [
    "lambdas"
   ]
  },
  {
   "cell_type": "markdown",
   "id": "c7a99987",
   "metadata": {},
   "source": [
    "Fitting the model with RIdge"
   ]
  },
  {
   "cell_type": "code",
   "execution_count": 111,
   "id": "ccc387cd",
   "metadata": {},
   "outputs": [],
   "source": [
    "model=Ridge(fit_intercept=True)"
   ]
  },
  {
   "cell_type": "code",
   "execution_count": 113,
   "id": "348fc8c1",
   "metadata": {},
   "outputs": [],
   "source": [
    "params={'alpha':lambdas}"
   ]
  },
  {
   "cell_type": "markdown",
   "id": "6bb32423",
   "metadata": {},
   "source": [
    "Defining the elem,ents of Grid Search including Number of Cross Validation(CV),Scoring type"
   ]
  },
  {
   "cell_type": "code",
   "execution_count": 114,
   "id": "237927cd",
   "metadata": {},
   "outputs": [],
   "source": [
    "grid_search=GridSearchCV(model,\n",
    "                         param_grid=params,\n",
    "                         cv=10,\n",
    "                         scoring='neg_mean_absolute_error',\n",
    "                        verbose=20,n_jobs=-1)"
   ]
  },
  {
   "cell_type": "markdown",
   "id": "e73d0802",
   "metadata": {},
   "source": [
    "Defining a function to get top validation  score"
   ]
  },
  {
   "cell_type": "code",
   "execution_count": 112,
   "id": "c01c2e63",
   "metadata": {},
   "outputs": [],
   "source": [
    "def report(results, n_top=3):\n",
    "    for i in range(1, n_top + 1):\n",
    "        candidates = np.flatnonzero(results['rank_test_score'] == i)\n",
    "        for candidate in candidates:\n",
    "            print(\"Model with rank: {0}\".format(i))\n",
    "            print(\"Mean validation score: {0:.6f} (std: {1:.6f})\".format(\n",
    "                  results['mean_test_score'][candidate],\n",
    "                  results['std_test_score'][candidate]))\n",
    "            print(\"Parameters: {0}\".format(results['params'][candidate]))\n",
    "            print(\"\")"
   ]
  },
  {
   "cell_type": "markdown",
   "id": "24f5174e",
   "metadata": {},
   "source": [
    "Fitting the split train data"
   ]
  },
  {
   "cell_type": "code",
   "execution_count": 115,
   "id": "3f91a46b",
   "metadata": {},
   "outputs": [
    {
     "name": "stdout",
     "output_type": "stream",
     "text": [
      "Fitting 10 folds for each of 1000 candidates, totalling 10000 fits\n"
     ]
    },
    {
     "data": {
      "text/plain": [
       "GridSearchCV(cv=10, estimator=Ridge(), n_jobs=-1,\n",
       "             param_grid={'alpha': array([1.00000000e-03, 1.01099099e-01, 2.01198198e-01, 3.01297297e-01,\n",
       "       4.01396396e-01, 5.01495495e-01, 6.01594595e-01, 7.01693694e-01,\n",
       "       8.01792793e-01, 9.01891892e-01, 1.00199099e+00, 1.10209009e+00,\n",
       "       1.20218919e+00, 1.30228829e+00, 1.40238739e+00, 1.50248649e+00,\n",
       "       1.60258559e+00, 1.70268468e+00, 1.8027...\n",
       "       9.76977207e+01, 9.77978198e+01, 9.78979189e+01, 9.79980180e+01,\n",
       "       9.80981171e+01, 9.81982162e+01, 9.82983153e+01, 9.83984144e+01,\n",
       "       9.84985135e+01, 9.85986126e+01, 9.86987117e+01, 9.87988108e+01,\n",
       "       9.88989099e+01, 9.89990090e+01, 9.90991081e+01, 9.91992072e+01,\n",
       "       9.92993063e+01, 9.93994054e+01, 9.94995045e+01, 9.95996036e+01,\n",
       "       9.96997027e+01, 9.97998018e+01, 9.98999009e+01, 1.00000000e+02])},\n",
       "             scoring='neg_mean_absolute_error', verbose=20)"
      ]
     },
     "execution_count": 115,
     "metadata": {},
     "output_type": "execute_result"
    }
   ],
   "source": [
    "grid_search.fit(sd_train11,sd_train12)"
   ]
  },
  {
   "cell_type": "markdown",
   "id": "622dae0a",
   "metadata": {},
   "source": [
    "Getting top 5 performance"
   ]
  },
  {
   "cell_type": "code",
   "execution_count": 116,
   "id": "0f9b020f",
   "metadata": {},
   "outputs": [
    {
     "name": "stdout",
     "output_type": "stream",
     "text": [
      "Model with rank: 1\n",
      "Mean validation score: -1003.765548 (std: 32.846900)\n",
      "Parameters: {'alpha': 10.211108108108109}\n",
      "\n",
      "Model with rank: 2\n",
      "Mean validation score: -1003.765553 (std: 32.845858)\n",
      "Parameters: {'alpha': 10.111009009009008}\n",
      "\n",
      "Model with rank: 3\n",
      "Mean validation score: -1003.765689 (std: 32.844772)\n",
      "Parameters: {'alpha': 10.010909909909909}\n",
      "\n",
      "Model with rank: 4\n",
      "Mean validation score: -1003.765774 (std: 32.847933)\n",
      "Parameters: {'alpha': 10.311207207207207}\n",
      "\n",
      "Model with rank: 5\n",
      "Mean validation score: -1003.765904 (std: 32.843642)\n",
      "Parameters: {'alpha': 9.91081081081081}\n",
      "\n"
     ]
    }
   ],
   "source": [
    "report(grid_search.cv_results_,5)"
   ]
  },
  {
   "cell_type": "markdown",
   "id": "062f885f",
   "metadata": {},
   "source": [
    "### Lasso\n",
    "Defining the model with Lasso"
   ]
  },
  {
   "cell_type": "code",
   "execution_count": 117,
   "id": "def7c564",
   "metadata": {},
   "outputs": [],
   "source": [
    "model1=Lasso(fit_intercept=True)"
   ]
  },
  {
   "cell_type": "markdown",
   "id": "9b463bb6",
   "metadata": {},
   "source": [
    "Defining different elements in grid search"
   ]
  },
  {
   "cell_type": "code",
   "execution_count": 118,
   "id": "30a07822",
   "metadata": {},
   "outputs": [],
   "source": [
    "grid_search1=GridSearchCV(model1,\n",
    "                         param_grid=params,\n",
    "                         cv=30,\n",
    "                         scoring='neg_mean_absolute_error',\n",
    "                        verbose=20,n_jobs=-1)"
   ]
  },
  {
   "cell_type": "markdown",
   "id": "851ee2cc",
   "metadata": {},
   "source": [
    "Fitting the data"
   ]
  },
  {
   "cell_type": "code",
   "execution_count": 119,
   "id": "40fc07e9",
   "metadata": {},
   "outputs": [
    {
     "name": "stdout",
     "output_type": "stream",
     "text": [
      "Fitting 30 folds for each of 1000 candidates, totalling 30000 fits\n"
     ]
    },
    {
     "data": {
      "text/plain": [
       "GridSearchCV(cv=30, estimator=Lasso(), n_jobs=-1,\n",
       "             param_grid={'alpha': array([1.00000000e-03, 1.01099099e-01, 2.01198198e-01, 3.01297297e-01,\n",
       "       4.01396396e-01, 5.01495495e-01, 6.01594595e-01, 7.01693694e-01,\n",
       "       8.01792793e-01, 9.01891892e-01, 1.00199099e+00, 1.10209009e+00,\n",
       "       1.20218919e+00, 1.30228829e+00, 1.40238739e+00, 1.50248649e+00,\n",
       "       1.60258559e+00, 1.70268468e+00, 1.8027...\n",
       "       9.76977207e+01, 9.77978198e+01, 9.78979189e+01, 9.79980180e+01,\n",
       "       9.80981171e+01, 9.81982162e+01, 9.82983153e+01, 9.83984144e+01,\n",
       "       9.84985135e+01, 9.85986126e+01, 9.86987117e+01, 9.87988108e+01,\n",
       "       9.88989099e+01, 9.89990090e+01, 9.90991081e+01, 9.91992072e+01,\n",
       "       9.92993063e+01, 9.93994054e+01, 9.94995045e+01, 9.95996036e+01,\n",
       "       9.96997027e+01, 9.97998018e+01, 9.98999009e+01, 1.00000000e+02])},\n",
       "             scoring='neg_mean_absolute_error', verbose=20)"
      ]
     },
     "execution_count": 119,
     "metadata": {},
     "output_type": "execute_result"
    }
   ],
   "source": [
    "grid_search1.fit(sd_train11,sd_train12)"
   ]
  },
  {
   "cell_type": "code",
   "execution_count": 120,
   "id": "99168c9e",
   "metadata": {},
   "outputs": [
    {
     "name": "stdout",
     "output_type": "stream",
     "text": [
      "Model with rank: 1\n",
      "Mean validation score: -1003.340453 (std: 69.510578)\n",
      "Parameters: {'alpha': 2.8037747747747748}\n",
      "\n",
      "Model with rank: 2\n",
      "Mean validation score: -1003.341142 (std: 69.505908)\n",
      "Parameters: {'alpha': 2.7036756756756755}\n",
      "\n",
      "Model with rank: 3\n",
      "Mean validation score: -1003.341262 (std: 69.514425)\n",
      "Parameters: {'alpha': 2.9038738738738736}\n",
      "\n",
      "Model with rank: 4\n",
      "Mean validation score: -1003.342457 (std: 69.501659)\n",
      "Parameters: {'alpha': 2.6035765765765766}\n",
      "\n",
      "Model with rank: 5\n",
      "Mean validation score: -1003.343292 (std: 69.517721)\n",
      "Parameters: {'alpha': 3.003972972972973}\n",
      "\n"
     ]
    }
   ],
   "source": [
    "report(grid_search1.cv_results_,5)"
   ]
  },
  {
   "cell_type": "code",
   "execution_count": 99,
   "id": "2570440a",
   "metadata": {},
   "outputs": [],
   "source": [
    "predict=grid_search1.predict(sd_train21)"
   ]
  },
  {
   "cell_type": "code",
   "execution_count": 100,
   "id": "8bb589db",
   "metadata": {},
   "outputs": [],
   "source": [
    "pd.DataFrame(predict).to_csv(\"sd_test_lasso .csv\",index=False)"
   ]
  },
  {
   "cell_type": "markdown",
   "id": "5813637f",
   "metadata": {},
   "source": [
    "### Decision Tree\n",
    "Importing different packages like Decison Tree,random forest,extra tree and Randomized search CV"
   ]
  },
  {
   "cell_type": "code",
   "execution_count": 122,
   "id": "3ecf3535",
   "metadata": {},
   "outputs": [],
   "source": [
    "from sklearn.tree import DecisionTreeRegressor\n",
    "from sklearn.ensemble import RandomForestRegressor\n",
    "from sklearn.ensemble import ExtraTreesRegressor\n",
    "from sklearn.model_selection import RandomizedSearchCV"
   ]
  },
  {
   "cell_type": "markdown",
   "id": "d3bea15a",
   "metadata": {},
   "source": [
    "Defining different parameters of Decision Tree"
   ]
  },
  {
   "cell_type": "code",
   "execution_count": 123,
   "id": "aeeacf2d",
   "metadata": {},
   "outputs": [],
   "source": [
    "paramss={ \n",
    "        'max_depth':[None,5,10,15,20,30,50,70],\n",
    "            'min_samples_leaf':[1,2,5,10,15,20], \n",
    "            'min_samples_split':[2,5,10,15,20]\n",
    "       }"
   ]
  },
  {
   "cell_type": "code",
   "execution_count": 124,
   "id": "4b07f3c3",
   "metadata": {},
   "outputs": [],
   "source": [
    "reg=DecisionTreeRegressor()"
   ]
  },
  {
   "cell_type": "markdown",
   "id": "0598a8e5",
   "metadata": {},
   "source": [
    "Defining random search CV with parameter and fitting the model"
   ]
  },
  {
   "cell_type": "code",
   "execution_count": 125,
   "id": "5e869118",
   "metadata": {},
   "outputs": [],
   "source": [
    "random_search=RandomizedSearchCV(reg,\n",
    "                                 cv=10,\n",
    "                                 param_distributions=paramss,\n",
    "                                 scoring='neg_mean_absolute_error',\n",
    "                                 n_iter=240,n_jobs=-1,verbose=20\n",
    "                                    )"
   ]
  },
  {
   "cell_type": "code",
   "execution_count": 126,
   "id": "3ae1b5f6",
   "metadata": {},
   "outputs": [
    {
     "name": "stdout",
     "output_type": "stream",
     "text": [
      "Fitting 10 folds for each of 240 candidates, totalling 2400 fits\n"
     ]
    },
    {
     "data": {
      "text/plain": [
       "RandomizedSearchCV(cv=10, estimator=DecisionTreeRegressor(), n_iter=240,\n",
       "                   n_jobs=-1,\n",
       "                   param_distributions={'max_depth': [None, 5, 10, 15, 20, 30,\n",
       "                                                      50, 70],\n",
       "                                        'min_samples_leaf': [1, 2, 5, 10, 15,\n",
       "                                                             20],\n",
       "                                        'min_samples_split': [2, 5, 10, 15,\n",
       "                                                              20]},\n",
       "                   scoring='neg_mean_absolute_error', verbose=20)"
      ]
     },
     "execution_count": 126,
     "metadata": {},
     "output_type": "execute_result"
    }
   ],
   "source": [
    "random_search.fit(sd_train11,sd_train12)"
   ]
  },
  {
   "cell_type": "code",
   "execution_count": 127,
   "id": "77dbbd6c",
   "metadata": {},
   "outputs": [
    {
     "name": "stdout",
     "output_type": "stream",
     "text": [
      "Model with rank: 1\n",
      "Mean validation score: -755.039529 (std: 23.877146)\n",
      "Parameters: {'min_samples_split': 2, 'min_samples_leaf': 20, 'max_depth': 5}\n",
      "\n",
      "Model with rank: 1\n",
      "Mean validation score: -755.039529 (std: 23.877146)\n",
      "Parameters: {'min_samples_split': 5, 'min_samples_leaf': 20, 'max_depth': 5}\n",
      "\n",
      "Model with rank: 1\n",
      "Mean validation score: -755.039529 (std: 23.877146)\n",
      "Parameters: {'min_samples_split': 10, 'min_samples_leaf': 20, 'max_depth': 5}\n",
      "\n",
      "Model with rank: 1\n",
      "Mean validation score: -755.039529 (std: 23.877146)\n",
      "Parameters: {'min_samples_split': 15, 'min_samples_leaf': 20, 'max_depth': 5}\n",
      "\n",
      "Model with rank: 1\n",
      "Mean validation score: -755.039529 (std: 23.877146)\n",
      "Parameters: {'min_samples_split': 20, 'min_samples_leaf': 20, 'max_depth': 5}\n",
      "\n"
     ]
    }
   ],
   "source": [
    "report(random_search.cv_results_,5)"
   ]
  },
  {
   "cell_type": "markdown",
   "id": "2a6635e1",
   "metadata": {},
   "source": [
    "### RandomForest\n",
    "definign diferent parameters for random forest"
   ]
  },
  {
   "cell_type": "code",
   "execution_count": 107,
   "id": "b405fcfe",
   "metadata": {},
   "outputs": [],
   "source": [
    "param_dist = {\"n_estimators\":[50,100,200],\n",
    "              \"max_features\": [2,4,5,6,8],\n",
    "              \"bootstrap\": [True, False],\n",
    "                'max_depth':[None,5,10,15,20,30,50,70],\n",
    "                'min_samples_leaf':[1,2,5,10,15,20], \n",
    "                'min_samples_split':[2,5,10,15,20]\n",
    "                  }"
   ]
  },
  {
   "cell_type": "code",
   "execution_count": 108,
   "id": "8f3c31e0",
   "metadata": {},
   "outputs": [],
   "source": [
    "regg=RandomForestRegressor()"
   ]
  },
  {
   "cell_type": "code",
   "execution_count": 109,
   "id": "dffd3600",
   "metadata": {},
   "outputs": [
    {
     "name": "stdout",
     "output_type": "stream",
     "text": [
      "Fitting 10 folds for each of 15 candidates, totalling 150 fits\n"
     ]
    },
    {
     "data": {
      "text/plain": [
       "RandomizedSearchCV(cv=10, estimator=RandomForestRegressor(), n_iter=15,\n",
       "                   n_jobs=-1,\n",
       "                   param_distributions={'bootstrap': [True, False],\n",
       "                                        'max_depth': [None, 5, 10, 15, 20, 30,\n",
       "                                                      50, 70],\n",
       "                                        'max_features': [2, 4, 5, 6, 8],\n",
       "                                        'min_samples_leaf': [1, 2, 5, 10, 15,\n",
       "                                                             20],\n",
       "                                        'min_samples_split': [2, 5, 10, 15, 20],\n",
       "                                        'n_estimators': [50, 100, 200]},\n",
       "                   scoring='neg_mean_absolute_error', verbose=20)"
      ]
     },
     "execution_count": 109,
     "metadata": {},
     "output_type": "execute_result"
    }
   ],
   "source": [
    "n_iter_search = 15\n",
    "random_search=RandomizedSearchCV(regg,\n",
    "                                 cv=10,\n",
    "                                 param_distributions=param_dist,\n",
    "                                 scoring='neg_mean_absolute_error',\n",
    "                                 n_iter=15,n_jobs=-1,verbose=20\n",
    "                                    )\n",
    "\n",
    "random_search.fit(sd_train11,sd_train12)"
   ]
  },
  {
   "cell_type": "code",
   "execution_count": 110,
   "id": "29b43511",
   "metadata": {},
   "outputs": [
    {
     "name": "stdout",
     "output_type": "stream",
     "text": [
      "Model with rank: 1\n",
      "Mean validation score: -751.994162 (std: 25.882417)\n",
      "Parameters: {'n_estimators': 200, 'min_samples_split': 20, 'min_samples_leaf': 20, 'max_features': 5, 'max_depth': 20, 'bootstrap': True}\n",
      "\n",
      "Model with rank: 2\n",
      "Mean validation score: -753.586753 (std: 25.205017)\n",
      "Parameters: {'n_estimators': 200, 'min_samples_split': 2, 'min_samples_leaf': 15, 'max_features': 4, 'max_depth': 30, 'bootstrap': True}\n",
      "\n",
      "Model with rank: 3\n",
      "Mean validation score: -754.928286 (std: 26.905674)\n",
      "Parameters: {'n_estimators': 50, 'min_samples_split': 2, 'min_samples_leaf': 15, 'max_features': 4, 'max_depth': 10, 'bootstrap': False}\n",
      "\n",
      "Model with rank: 4\n",
      "Mean validation score: -755.825096 (std: 25.021806)\n",
      "Parameters: {'n_estimators': 100, 'min_samples_split': 2, 'min_samples_leaf': 10, 'max_features': 5, 'max_depth': 30, 'bootstrap': True}\n",
      "\n",
      "Model with rank: 5\n",
      "Mean validation score: -756.548975 (std: 26.342801)\n",
      "Parameters: {'n_estimators': 200, 'min_samples_split': 15, 'min_samples_leaf': 15, 'max_features': 5, 'max_depth': 10, 'bootstrap': False}\n",
      "\n"
     ]
    }
   ],
   "source": [
    "report(random_search.cv_results_,5)"
   ]
  },
  {
   "cell_type": "code",
   "execution_count": 111,
   "id": "3791cfb4",
   "metadata": {},
   "outputs": [],
   "source": [
    "predictrf=random_search.predict(sd_test)"
   ]
  },
  {
   "cell_type": "code",
   "execution_count": 112,
   "id": "ffc3f7df",
   "metadata": {},
   "outputs": [],
   "source": [
    "pd.DataFrame(predictrf).to_csv(\"sd_test_rgggg.csv\",index=False)"
   ]
  },
  {
   "cell_type": "markdown",
   "id": "3ac94b62",
   "metadata": {},
   "source": [
    "### ExraTree"
   ]
  },
  {
   "cell_type": "code",
   "execution_count": 216,
   "id": "6bde6757",
   "metadata": {},
   "outputs": [],
   "source": [
    "param_dist = {\"n_estimators\":[50,100,200],\n",
    "              \"max_features\": [2,4,5,6,8],\n",
    "              \"bootstrap\": [True, False],\n",
    "                'max_depth':[None,5,10,15,20,30,50,70],\n",
    "                'min_samples_leaf':[1,2,5,10,15,20], \n",
    "                'min_samples_split':[2,5,10,15,20]\n",
    "                  }"
   ]
  },
  {
   "cell_type": "code",
   "execution_count": 217,
   "id": "4e334d30",
   "metadata": {},
   "outputs": [],
   "source": [
    "reget=ExtraTreesRegressor()"
   ]
  },
  {
   "cell_type": "code",
   "execution_count": 238,
   "id": "63d8a11c",
   "metadata": {},
   "outputs": [
    {
     "name": "stdout",
     "output_type": "stream",
     "text": [
      "Fitting 15 folds for each of 30 candidates, totalling 450 fits\n"
     ]
    },
    {
     "data": {
      "text/plain": [
       "RandomizedSearchCV(cv=15, estimator=ExtraTreesRegressor(), n_iter=30, n_jobs=-1,\n",
       "                   param_distributions={'bootstrap': [True, False],\n",
       "                                        'max_depth': [None, 5, 10, 15, 20, 30,\n",
       "                                                      50, 70],\n",
       "                                        'max_features': [2, 4, 5, 6, 8],\n",
       "                                        'min_samples_leaf': [1, 2, 5, 10, 15,\n",
       "                                                             20],\n",
       "                                        'min_samples_split': [2, 5, 10, 15, 20],\n",
       "                                        'n_estimators': [50, 100, 200]},\n",
       "                   scoring='neg_mean_absolute_error', verbose=20)"
      ]
     },
     "execution_count": 238,
     "metadata": {},
     "output_type": "execute_result"
    }
   ],
   "source": [
    "n_iter_search = 20\n",
    "random_searchet=RandomizedSearchCV(reget,\n",
    "                                 cv=15,\n",
    "                                 param_distributions=param_dist,\n",
    "                                 scoring='neg_mean_absolute_error',\n",
    "                                 n_iter=30,n_jobs=-1,verbose=20\n",
    "                                    )\n",
    "\n",
    "random_searchet.fit(sd_train11,sd_train12)"
   ]
  },
  {
   "cell_type": "code",
   "execution_count": 239,
   "id": "245f9626",
   "metadata": {},
   "outputs": [
    {
     "name": "stdout",
     "output_type": "stream",
     "text": [
      "Model with rank: 1\n",
      "Mean validation score: -749.818653 (std: 36.771817)\n",
      "Parameters: {'n_estimators': 200, 'min_samples_split': 15, 'min_samples_leaf': 2, 'max_features': 6, 'max_depth': 10, 'bootstrap': True}\n",
      "\n",
      "Model with rank: 2\n",
      "Mean validation score: -750.835697 (std: 36.589455)\n",
      "Parameters: {'n_estimators': 50, 'min_samples_split': 15, 'min_samples_leaf': 10, 'max_features': 6, 'max_depth': 10, 'bootstrap': False}\n",
      "\n",
      "Model with rank: 3\n",
      "Mean validation score: -750.875832 (std: 37.821535)\n",
      "Parameters: {'n_estimators': 200, 'min_samples_split': 2, 'min_samples_leaf': 2, 'max_features': 8, 'max_depth': 10, 'bootstrap': True}\n",
      "\n",
      "Model with rank: 4\n",
      "Mean validation score: -751.077803 (std: 35.906078)\n",
      "Parameters: {'n_estimators': 100, 'min_samples_split': 20, 'min_samples_leaf': 15, 'max_features': 6, 'max_depth': 10, 'bootstrap': False}\n",
      "\n",
      "Model with rank: 5\n",
      "Mean validation score: -751.140933 (std: 37.384566)\n",
      "Parameters: {'n_estimators': 200, 'min_samples_split': 5, 'min_samples_leaf': 10, 'max_features': 6, 'max_depth': None, 'bootstrap': False}\n",
      "\n"
     ]
    }
   ],
   "source": [
    "report(random_searchet.cv_results_,5)"
   ]
  },
  {
   "cell_type": "markdown",
   "id": "8e47504e",
   "metadata": {},
   "source": [
    "### Gradient       Boost"
   ]
  },
  {
   "cell_type": "code",
   "execution_count": null,
   "id": "2d4c2d15",
   "metadata": {},
   "outputs": [],
   "source": [
    "import xgboost\n",
    "from sklearn.model_selection import RandomizedSearchCV\n",
    "from sklearn.ensemble import GradientBoostingRegressor"
   ]
  },
  {
   "cell_type": "code",
   "execution_count": 162,
   "id": "4c63bef3",
   "metadata": {},
   "outputs": [
    {
     "name": "stdout",
     "output_type": "stream",
     "text": [
      "1.5.1\n"
     ]
    }
   ],
   "source": [
    "import xgboost\n",
    "print(xgboost.__version__)"
   ]
  },
  {
   "cell_type": "code",
   "execution_count": 250,
   "id": "5a82e78b",
   "metadata": {},
   "outputs": [],
   "source": [
    "gbm_params={'n_estimators':[1,10,20,50,100,200,500,700,900,1100],\n",
    "           'learning_rate': [0.0001,0.001,0.01,.05,0.1,0.4,0.8,1],\n",
    "            'max_depth':[0,1,2,3,4,5,6,7,8,9],\n",
    "#             'min_samples_split':[2,5,10,20],\n",
    "#             'min_samples_leaf':[2,5,10,20],\n",
    "            'subsample':[0.001,0.01,0.1,0.3,0.5,0.8,1],\n",
    "            'max_features':[1,3,5,10,15,20,30,45,55,65,75,85,95]\n",
    "           }"
   ]
  },
  {
   "cell_type": "code",
   "execution_count": 251,
   "id": "40df4c8e",
   "metadata": {},
   "outputs": [],
   "source": [
    "gbm=GradientBoostingRegressor()"
   ]
  },
  {
   "cell_type": "code",
   "execution_count": 264,
   "id": "f7b2e78c",
   "metadata": {},
   "outputs": [],
   "source": [
    "random_searchgb=RandomizedSearchCV(gbm,\n",
    "                                 scoring='neg_mean_absolute_error',\n",
    "                                 param_distributions=gbm_params,\n",
    "                                 cv=80,\n",
    "                                 n_iter=100,\n",
    "                                 n_jobs=-1,\n",
    "                                verbose=20)"
   ]
  },
  {
   "cell_type": "code",
   "execution_count": 265,
   "id": "fff515dd",
   "metadata": {},
   "outputs": [
    {
     "name": "stdout",
     "output_type": "stream",
     "text": [
      "Fitting 80 folds for each of 100 candidates, totalling 8000 fits\n"
     ]
    },
    {
     "name": "stderr",
     "output_type": "stream",
     "text": [
      "C:\\Users\\Cyntexia\\anaconda3\\lib\\site-packages\\sklearn\\model_selection\\_validation.py:372: FitFailedWarning: \n",
      "6480 fits failed out of a total of 8000.\n",
      "The score on these train-test partitions for these parameters will be set to nan.\n",
      "If these failures are not expected, you can try to debug them by setting error_score='raise'.\n",
      "\n",
      "Below are more details about the failures:\n",
      "--------------------------------------------------------------------------------\n",
      "5840 fits failed with the following error:\n",
      "Traceback (most recent call last):\n",
      "  File \"C:\\Users\\Cyntexia\\anaconda3\\lib\\site-packages\\sklearn\\model_selection\\_validation.py\", line 680, in _fit_and_score\n",
      "    estimator.fit(X_train, y_train, **fit_params)\n",
      "  File \"C:\\Users\\Cyntexia\\anaconda3\\lib\\site-packages\\sklearn\\ensemble\\_gb.py\", line 586, in fit\n",
      "    n_stages = self._fit_stages(\n",
      "  File \"C:\\Users\\Cyntexia\\anaconda3\\lib\\site-packages\\sklearn\\ensemble\\_gb.py\", line 663, in _fit_stages\n",
      "    raw_predictions = self._fit_stage(\n",
      "  File \"C:\\Users\\Cyntexia\\anaconda3\\lib\\site-packages\\sklearn\\ensemble\\_gb.py\", line 246, in _fit_stage\n",
      "    tree.fit(X, residual, sample_weight=sample_weight, check_input=False)\n",
      "  File \"C:\\Users\\Cyntexia\\anaconda3\\lib\\site-packages\\sklearn\\tree\\_classes.py\", line 1315, in fit\n",
      "    super().fit(\n",
      "  File \"C:\\Users\\Cyntexia\\anaconda3\\lib\\site-packages\\sklearn\\tree\\_classes.py\", line 308, in fit\n",
      "    raise ValueError(\"max_features must be in (0, n_features]\")\n",
      "ValueError: max_features must be in (0, n_features]\n",
      "\n",
      "--------------------------------------------------------------------------------\n",
      "640 fits failed with the following error:\n",
      "Traceback (most recent call last):\n",
      "  File \"C:\\Users\\Cyntexia\\anaconda3\\lib\\site-packages\\sklearn\\model_selection\\_validation.py\", line 680, in _fit_and_score\n",
      "    estimator.fit(X_train, y_train, **fit_params)\n",
      "  File \"C:\\Users\\Cyntexia\\anaconda3\\lib\\site-packages\\sklearn\\ensemble\\_gb.py\", line 586, in fit\n",
      "    n_stages = self._fit_stages(\n",
      "  File \"C:\\Users\\Cyntexia\\anaconda3\\lib\\site-packages\\sklearn\\ensemble\\_gb.py\", line 663, in _fit_stages\n",
      "    raw_predictions = self._fit_stage(\n",
      "  File \"C:\\Users\\Cyntexia\\anaconda3\\lib\\site-packages\\sklearn\\ensemble\\_gb.py\", line 246, in _fit_stage\n",
      "    tree.fit(X, residual, sample_weight=sample_weight, check_input=False)\n",
      "  File \"C:\\Users\\Cyntexia\\anaconda3\\lib\\site-packages\\sklearn\\tree\\_classes.py\", line 1315, in fit\n",
      "    super().fit(\n",
      "  File \"C:\\Users\\Cyntexia\\anaconda3\\lib\\site-packages\\sklearn\\tree\\_classes.py\", line 306, in fit\n",
      "    raise ValueError(\"max_depth must be greater than zero. \")\n",
      "ValueError: max_depth must be greater than zero. \n",
      "\n",
      "  warnings.warn(some_fits_failed_message, FitFailedWarning)\n",
      "C:\\Users\\Cyntexia\\anaconda3\\lib\\site-packages\\sklearn\\model_selection\\_search.py:969: UserWarning: One or more of the test scores are non-finite: [            nan             nan -9.09862646e+02             nan\n",
      "             nan             nan             nan             nan\n",
      "             nan             nan             nan             nan\n",
      "             nan             nan             nan             nan\n",
      " -1.12951196e+03             nan             nan -8.71065607e+06\n",
      "             nan             nan -7.64163091e+02             nan\n",
      "             nan             nan             nan             nan\n",
      " -8.11348527e+02             nan             nan             nan\n",
      "             nan             nan             nan             nan\n",
      "             nan             nan -1.32045446e+03             nan\n",
      "             nan             nan             nan             nan\n",
      "             nan             nan -1.03613240e+04             nan\n",
      "             nan             nan -2.27020298e+36             nan\n",
      " -7.74296668e+02 -8.88480840e+02             nan             nan\n",
      "             nan             nan             nan             nan\n",
      "             nan             nan             nan             nan\n",
      "             nan             nan             nan             nan\n",
      "             nan -1.23804560e+03             nan -7.98489683e+02\n",
      "             nan             nan             nan -8.02940034e+02\n",
      "             nan             nan             nan -9.69431335e+02\n",
      " -1.18941710e+03             nan             nan -1.12045392e+12\n",
      "             nan             nan             nan             nan\n",
      "             nan             nan             nan             nan\n",
      "             nan             nan -1.33573951e+03 -1.63271766e+10\n",
      "             nan             nan             nan -1.60528799e+03]\n",
      "  warnings.warn(\n"
     ]
    },
    {
     "data": {
      "text/plain": [
       "RandomizedSearchCV(cv=80, estimator=GradientBoostingRegressor(), n_iter=100,\n",
       "                   n_jobs=-1,\n",
       "                   param_distributions={'learning_rate': [0.0001, 0.001, 0.01,\n",
       "                                                          0.05, 0.1, 0.4, 0.8,\n",
       "                                                          1],\n",
       "                                        'max_depth': [0, 1, 2, 3, 4, 5, 6, 7, 8,\n",
       "                                                      9],\n",
       "                                        'max_features': [1, 3, 5, 10, 15, 20,\n",
       "                                                         30, 45, 55, 65, 75, 85,\n",
       "                                                         95],\n",
       "                                        'n_estimators': [1, 10, 20, 50, 100,\n",
       "                                                         200, 500, 700, 900,\n",
       "                                                         1100],\n",
       "                                        'subsample': [0.001, 0.01, 0.1, 0.3,\n",
       "                                                      0.5, 0.8, 1]},\n",
       "                   scoring='neg_mean_absolute_error', verbose=20)"
      ]
     },
     "execution_count": 265,
     "metadata": {},
     "output_type": "execute_result"
    }
   ],
   "source": [
    "random_searchgb.fit(sd_train11,sd_train12)"
   ]
  },
  {
   "cell_type": "code",
   "execution_count": 266,
   "id": "84f61c3b",
   "metadata": {},
   "outputs": [
    {
     "name": "stdout",
     "output_type": "stream",
     "text": [
      "Model with rank: 1\n",
      "Mean validation score: -764.163091 (std: 84.429838)\n",
      "Parameters: {'subsample': 1, 'n_estimators': 100, 'max_features': 5, 'max_depth': 3, 'learning_rate': 0.1}\n",
      "\n",
      "Model with rank: 2\n",
      "Mean validation score: -774.296668 (std: 85.972917)\n",
      "Parameters: {'subsample': 0.3, 'n_estimators': 700, 'max_features': 1, 'max_depth': 7, 'learning_rate': 0.01}\n",
      "\n",
      "Model with rank: 3\n",
      "Mean validation score: -798.489683 (std: 86.889095)\n",
      "Parameters: {'subsample': 0.1, 'n_estimators': 900, 'max_features': 3, 'max_depth': 3, 'learning_rate': 0.05}\n",
      "\n",
      "Model with rank: 4\n",
      "Mean validation score: -802.940034 (std: 80.157372)\n",
      "Parameters: {'subsample': 0.1, 'n_estimators': 50, 'max_features': 3, 'max_depth': 7, 'learning_rate': 0.05}\n",
      "\n",
      "Model with rank: 5\n",
      "Mean validation score: -811.348527 (std: 91.807627)\n",
      "Parameters: {'subsample': 0.8, 'n_estimators': 500, 'max_features': 3, 'max_depth': 5, 'learning_rate': 0.1}\n",
      "\n"
     ]
    }
   ],
   "source": [
    "report(random_searchgb.cv_results_,5)"
   ]
  },
  {
   "cell_type": "code",
   "execution_count": 267,
   "id": "76f5b95b",
   "metadata": {},
   "outputs": [],
   "source": [
    "predictgb=random_searchgb.predict(sd_test)"
   ]
  },
  {
   "cell_type": "code",
   "execution_count": 269,
   "id": "55b2f4d7",
   "metadata": {},
   "outputs": [],
   "source": [
    "pd.DataFrame(predictgb).to_csv(\"sd_test_gb.csv\",index=False)"
   ]
  },
  {
   "cell_type": "markdown",
   "id": "021a96f8",
   "metadata": {},
   "source": [
    "### XGBoost  Regressor"
   ]
  },
  {
   "cell_type": "code",
   "execution_count": 210,
   "id": "db0ea64f",
   "metadata": {},
   "outputs": [],
   "source": [
    "xgb_params = {  \n",
    "                \"learning_rate\":[0.0001,0.001,0.01,0.05,0.1,0.9],\n",
    "                \"gamma\":[i/10.0 for i in range(0,5)],\n",
    "                \"max_depth\": [2,3,4,5,6,7,8],\n",
    "                \"min_child_weight\":[1,2,5,10],\n",
    "                \"max_delta_step\":[0,1,2,5,10],\n",
    "                \"subsample\":[i/10.0 for i in range(1,10)],\n",
    "                \"colsample_bytree\":[i/10.0 for i in range(1,10)],\n",
    "                \"colsample_bylevel\":[i/10.0 for i in range(1,10)],\n",
    "                \"reg_lambda\":[1e-5, 1e-2, 0.1, 1, 100], \n",
    "                \"reg_alpha\":[1e-5, 1e-2, 0.1, 1, 100],\n",
    "                \"scale_pos_weight\":[1,2,3,4,5,6,7,8,9],\n",
    "                \"n_estimators\":[100,500,700,1000]\n",
    "             }"
   ]
  },
  {
   "cell_type": "code",
   "execution_count": 211,
   "id": "71fa1abc",
   "metadata": {},
   "outputs": [],
   "source": [
    "xgb=xgboost.XGBRegressor(objective='reg:linear')"
   ]
  },
  {
   "cell_type": "code",
   "execution_count": 212,
   "id": "15d765db",
   "metadata": {},
   "outputs": [],
   "source": [
    "random_searchxgb=RandomizedSearchCV(xgb,n_jobs=-1,cv=15,n_iter=10,\n",
    "                                    scoring='neg_mean_absolute_error',\n",
    "                                     param_distributions=xgb_params)"
   ]
  },
  {
   "cell_type": "code",
   "execution_count": null,
   "id": "da577d3b",
   "metadata": {},
   "outputs": [],
   "source": [
    "random_searchxgb.fit(sd_train11,sd_train12)"
   ]
  },
  {
   "cell_type": "code",
   "execution_count": 182,
   "id": "2bad5436",
   "metadata": {},
   "outputs": [
    {
     "name": "stdout",
     "output_type": "stream",
     "text": [
      "Model with rank: 1\n",
      "Mean validation score: -783.847936 (std: 16.002134)\n",
      "Parameters: {'subsample': 0.8, 'scale_pos_weight': 5, 'reg_lambda': 100, 'reg_alpha': 1, 'n_estimators': 700, 'min_child_weight': 1, 'max_depth': 8, 'max_delta_step': 0, 'learning_rate': 0.01, 'gamma': 0.1, 'colsample_bytree': 0.5, 'colsample_bylevel': 0.9}\n",
      "\n",
      "Model with rank: 2\n",
      "Mean validation score: -824.063335 (std: 20.681460)\n",
      "Parameters: {'subsample': 0.5, 'scale_pos_weight': 9, 'reg_lambda': 0.1, 'reg_alpha': 100, 'n_estimators': 100, 'min_child_weight': 10, 'max_depth': 3, 'max_delta_step': 0, 'learning_rate': 0.5, 'gamma': 0.4, 'colsample_bytree': 0.5, 'colsample_bylevel': 0.6}\n",
      "\n",
      "Model with rank: 3\n",
      "Mean validation score: -1735.718952 (std: 28.387156)\n",
      "Parameters: {'subsample': 0.7, 'scale_pos_weight': 3, 'reg_lambda': 100, 'reg_alpha': 100, 'n_estimators': 500, 'min_child_weight': 2, 'max_depth': 4, 'max_delta_step': 2, 'learning_rate': 0.5, 'gamma': 0.0, 'colsample_bytree': 0.8, 'colsample_bylevel': 0.9}\n",
      "\n",
      "Model with rank: 4\n",
      "Mean validation score: -1735.851795 (std: 28.582256)\n",
      "Parameters: {'subsample': 0.7, 'scale_pos_weight': 3, 'reg_lambda': 1e-05, 'reg_alpha': 0.1, 'n_estimators': 1000, 'min_child_weight': 1, 'max_depth': 4, 'max_delta_step': 1, 'learning_rate': 0.5, 'gamma': 0.4, 'colsample_bytree': 0.6, 'colsample_bylevel': 0.8}\n",
      "\n",
      "Model with rank: 5\n",
      "Mean validation score: -1736.031210 (std: 28.497397)\n",
      "Parameters: {'subsample': 0.9, 'scale_pos_weight': 6, 'reg_lambda': 1, 'reg_alpha': 100, 'n_estimators': 1000, 'min_child_weight': 1, 'max_depth': 2, 'max_delta_step': 1, 'learning_rate': 0.5, 'gamma': 0.3, 'colsample_bytree': 0.7, 'colsample_bylevel': 0.6}\n",
      "\n"
     ]
    }
   ],
   "source": [
    "report(random_searchxgb.cv_results_,5)"
   ]
  },
  {
   "cell_type": "markdown",
   "id": "41c1c269",
   "metadata": {},
   "source": [
    "### Neural Network"
   ]
  },
  {
   "cell_type": "code",
   "execution_count": 128,
   "id": "7b8355a7",
   "metadata": {},
   "outputs": [],
   "source": [
    "from sklearn.neural_network import MLPRegressor"
   ]
  },
  {
   "cell_type": "code",
   "execution_count": 129,
   "id": "0d6a0219",
   "metadata": {},
   "outputs": [],
   "source": [
    "parameters={\n",
    "'learning_rate': [\"constant\", \"invscaling\", \"adaptive\"],\n",
    "'hidden_layer_sizes': [(5,10,5),(20,10),(10,20),(150,100,50), (120,80,40), (100,50,30)],\n",
    "'alpha': [0.001,.01,0.1,0.2,0.4,0.8,0.9,0.3,0.1,0.01,0.001,0.0001,1],\n",
    "'activation': [\"relu\", \"logistic\", \"tanh\"]\n",
    "}"
   ]
  },
  {
   "cell_type": "code",
   "execution_count": 130,
   "id": "bda3e909",
   "metadata": {},
   "outputs": [],
   "source": [
    "clf=MLPRegressor()"
   ]
  },
  {
   "cell_type": "code",
   "execution_count": 131,
   "id": "cd12fbdf",
   "metadata": {},
   "outputs": [],
   "source": [
    "random_searchnn=RandomizedSearchCV(clf,n_iter=702,cv=50,\n",
    "                                 param_distributions=parameters,\n",
    "                                 scoring='neg_mean_absolute_error',random_state=2,\n",
    "                                 n_jobs=-1,verbose=20)"
   ]
  },
  {
   "cell_type": "code",
   "execution_count": 132,
   "id": "6c77fd13",
   "metadata": {},
   "outputs": [
    {
     "name": "stdout",
     "output_type": "stream",
     "text": [
      "Fitting 50 folds for each of 702 candidates, totalling 35100 fits\n"
     ]
    },
    {
     "name": "stderr",
     "output_type": "stream",
     "text": [
      "C:\\Users\\Cyntexia\\anaconda3\\lib\\site-packages\\sklearn\\neural_network\\_multilayer_perceptron.py:692: ConvergenceWarning: Stochastic Optimizer: Maximum iterations (200) reached and the optimization hasn't converged yet.\n",
      "  warnings.warn(\n"
     ]
    },
    {
     "data": {
      "text/plain": [
       "RandomizedSearchCV(cv=50, estimator=MLPRegressor(), n_iter=702, n_jobs=-1,\n",
       "                   param_distributions={'activation': ['relu', 'logistic',\n",
       "                                                       'tanh'],\n",
       "                                        'alpha': [0.001, 0.01, 0.1, 0.2, 0.4,\n",
       "                                                  0.8, 0.9, 0.3, 0.1, 0.01,\n",
       "                                                  0.001, 0.0001, 1],\n",
       "                                        'hidden_layer_sizes': [(5, 10, 5),\n",
       "                                                               (20, 10),\n",
       "                                                               (10, 20),\n",
       "                                                               (150, 100, 50),\n",
       "                                                               (120, 80, 40),\n",
       "                                                               (100, 50, 30)],\n",
       "                                        'learning_rate': ['constant',\n",
       "                                                          'invscaling',\n",
       "                                                          'adaptive']},\n",
       "                   random_state=2, scoring='neg_mean_absolute_error',\n",
       "                   verbose=20)"
      ]
     },
     "execution_count": 132,
     "metadata": {},
     "output_type": "execute_result"
    }
   ],
   "source": [
    "random_searchnn.fit(sd_train11,sd_train12)"
   ]
  },
  {
   "cell_type": "code",
   "execution_count": 133,
   "id": "cafa1339",
   "metadata": {},
   "outputs": [
    {
     "name": "stdout",
     "output_type": "stream",
     "text": [
      "Model with rank: 1\n",
      "Mean validation score: -746.792425 (std: 72.238538)\n",
      "Parameters: {'learning_rate': 'adaptive', 'hidden_layer_sizes': (150, 100, 50), 'alpha': 0.4, 'activation': 'relu'}\n",
      "\n",
      "Model with rank: 2\n",
      "Mean validation score: -747.247263 (std: 72.837236)\n",
      "Parameters: {'learning_rate': 'invscaling', 'hidden_layer_sizes': (150, 100, 50), 'alpha': 0.9, 'activation': 'relu'}\n",
      "\n",
      "Model with rank: 3\n",
      "Mean validation score: -747.569384 (std: 72.568108)\n",
      "Parameters: {'learning_rate': 'invscaling', 'hidden_layer_sizes': (150, 100, 50), 'alpha': 0.01, 'activation': 'relu'}\n",
      "\n",
      "Model with rank: 4\n",
      "Mean validation score: -748.075442 (std: 70.101223)\n",
      "Parameters: {'learning_rate': 'constant', 'hidden_layer_sizes': (150, 100, 50), 'alpha': 0.8, 'activation': 'relu'}\n",
      "\n",
      "Model with rank: 5\n",
      "Mean validation score: -748.158291 (std: 73.674458)\n",
      "Parameters: {'learning_rate': 'invscaling', 'hidden_layer_sizes': (150, 100, 50), 'alpha': 0.3, 'activation': 'relu'}\n",
      "\n"
     ]
    }
   ],
   "source": [
    "report(random_searchnn.cv_results_,5)\n",
    "\n",
    "\n",
    "\n"
   ]
  },
  {
   "cell_type": "code",
   "execution_count": 134,
   "id": "52f20c72",
   "metadata": {},
   "outputs": [],
   "source": [
    "predictrff=random_searchnn.predict(sd_test)"
   ]
  },
  {
   "cell_type": "code",
   "execution_count": 135,
   "id": "93e3859e",
   "metadata": {},
   "outputs": [],
   "source": [
    "pd.DataFrame(predictrff).to_csv(\"sd_test_nn.csv\",index=False)"
   ]
  },
  {
   "cell_type": "code",
   "execution_count": null,
   "id": "f2e38107",
   "metadata": {},
   "outputs": [],
   "source": []
  }
 ],
 "metadata": {
  "kernelspec": {
   "display_name": "Python 3 (ipykernel)",
   "language": "python",
   "name": "python3"
  },
  "language_info": {
   "codemirror_mode": {
    "name": "ipython",
    "version": 3
   },
   "file_extension": ".py",
   "mimetype": "text/x-python",
   "name": "python",
   "nbconvert_exporter": "python",
   "pygments_lexer": "ipython3",
   "version": "3.9.12"
  }
 },
 "nbformat": 4,
 "nbformat_minor": 5
}
